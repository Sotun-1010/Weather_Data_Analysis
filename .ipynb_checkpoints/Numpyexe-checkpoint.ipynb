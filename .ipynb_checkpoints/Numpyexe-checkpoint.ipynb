{
 "cells": [
  {
   "cell_type": "markdown",
   "id": "ad54e12e-d0b5-4a43-8585-cda2336ed160",
   "metadata": {
    "tags": []
   },
   "source": [
    "# Numpy Exercises\n",
    "\n"
   ]
  },
  {
   "cell_type": "code",
   "execution_count": 18,
   "id": "3e983688-f297-4146-ae0b-07e98c703080",
   "metadata": {
    "tags": []
   },
   "outputs": [],
   "source": [
    "import numpy as np\n",
    "import matplotlib\n",
    "import matplotlib.pyplot as plt"
   ]
  },
  {
   "cell_type": "code",
   "execution_count": 3,
   "id": "b7a1e184-7079-4aee-8cc8-452ed70e01cb",
   "metadata": {
    "tags": []
   },
   "outputs": [
    {
     "name": "stdout",
     "output_type": "stream",
     "text": [
      "1.24.3\n"
     ]
    }
   ],
   "source": [
    "# version\n",
    "print(np.__version__)"
   ]
  },
  {
   "cell_type": "code",
   "execution_count": 4,
   "id": "1342c872-2ad5-4d67-b6e9-e41168f0486d",
   "metadata": {
    "tags": []
   },
   "outputs": [
    {
     "name": "stdout",
     "output_type": "stream",
     "text": [
      "blas_armpl_info:\n",
      "  NOT AVAILABLE\n",
      "blas_mkl_info:\n",
      "    libraries = ['mkl_rt']\n",
      "    library_dirs = ['C:/Users/The.O.G.SOTUN/anaconda3\\\\Library\\\\lib']\n",
      "    define_macros = [('SCIPY_MKL_H', None), ('HAVE_CBLAS', None)]\n",
      "    include_dirs = ['C:/Users/The.O.G.SOTUN/anaconda3\\\\Library\\\\include']\n",
      "blas_opt_info:\n",
      "    libraries = ['mkl_rt']\n",
      "    library_dirs = ['C:/Users/The.O.G.SOTUN/anaconda3\\\\Library\\\\lib']\n",
      "    define_macros = [('SCIPY_MKL_H', None), ('HAVE_CBLAS', None)]\n",
      "    include_dirs = ['C:/Users/The.O.G.SOTUN/anaconda3\\\\Library\\\\include']\n",
      "lapack_armpl_info:\n",
      "  NOT AVAILABLE\n",
      "lapack_mkl_info:\n",
      "    libraries = ['mkl_rt']\n",
      "    library_dirs = ['C:/Users/The.O.G.SOTUN/anaconda3\\\\Library\\\\lib']\n",
      "    define_macros = [('SCIPY_MKL_H', None), ('HAVE_CBLAS', None)]\n",
      "    include_dirs = ['C:/Users/The.O.G.SOTUN/anaconda3\\\\Library\\\\include']\n",
      "lapack_opt_info:\n",
      "    libraries = ['mkl_rt']\n",
      "    library_dirs = ['C:/Users/The.O.G.SOTUN/anaconda3\\\\Library\\\\lib']\n",
      "    define_macros = [('SCIPY_MKL_H', None), ('HAVE_CBLAS', None)]\n",
      "    include_dirs = ['C:/Users/The.O.G.SOTUN/anaconda3\\\\Library\\\\include']\n",
      "Supported SIMD extensions in this NumPy install:\n",
      "    baseline = SSE,SSE2,SSE3\n",
      "    found = SSSE3,SSE41,POPCNT,SSE42,AVX,F16C,FMA3,AVX2\n",
      "    not found = AVX512F,AVX512CD,AVX512_SKX,AVX512_CLX,AVX512_CNL,AVX512_ICL\n",
      "None\n"
     ]
    }
   ],
   "source": [
    "# Build configuration\n",
    "print(np.show_config())"
   ]
  },
  {
   "cell_type": "code",
   "execution_count": 6,
   "id": "8ab65b9e-f292-4a05-8892-bd5ac7dc42ee",
   "metadata": {
    "tags": []
   },
   "outputs": [
    {
     "name": "stdout",
     "output_type": "stream",
     "text": [
      "add(x1, x2, /, out=None, *, where=True, casting='same_kind', order='K', dtype=None, subok=True[, signature, extobj])\n",
      "\n",
      "Add arguments element-wise.\n",
      "\n",
      "Parameters\n",
      "----------\n",
      "x1, x2 : array_like\n",
      "    The arrays to be added.\n",
      "    If ``x1.shape != x2.shape``, they must be broadcastable to a common\n",
      "    shape (which becomes the shape of the output).\n",
      "out : ndarray, None, or tuple of ndarray and None, optional\n",
      "    A location into which the result is stored. If provided, it must have\n",
      "    a shape that the inputs broadcast to. If not provided or None,\n",
      "    a freshly-allocated array is returned. A tuple (possible only as a\n",
      "    keyword argument) must have length equal to the number of outputs.\n",
      "where : array_like, optional\n",
      "    This condition is broadcast over the input. At locations where the\n",
      "    condition is True, the `out` array will be set to the ufunc result.\n",
      "    Elsewhere, the `out` array will retain its original value.\n",
      "    Note that if an uninitialized `out` array is created via the default\n",
      "    ``out=None``, locations within it where the condition is False will\n",
      "    remain uninitialized.\n",
      "**kwargs\n",
      "    For other keyword-only arguments, see the\n",
      "    :ref:`ufunc docs <ufuncs.kwargs>`.\n",
      "\n",
      "Returns\n",
      "-------\n",
      "add : ndarray or scalar\n",
      "    The sum of `x1` and `x2`, element-wise.\n",
      "    This is a scalar if both `x1` and `x2` are scalars.\n",
      "\n",
      "Notes\n",
      "-----\n",
      "Equivalent to `x1` + `x2` in terms of array broadcasting.\n",
      "\n",
      "Examples\n",
      "--------\n",
      ">>> np.add(1.0, 4.0)\n",
      "5.0\n",
      ">>> x1 = np.arange(9.0).reshape((3, 3))\n",
      ">>> x2 = np.arange(3.0)\n",
      ">>> np.add(x1, x2)\n",
      "array([[  0.,   2.,   4.],\n",
      "       [  3.,   5.,   7.],\n",
      "       [  6.,   8.,  10.]])\n",
      "\n",
      "The ``+`` operator can be used as a shorthand for ``np.add`` on ndarrays.\n",
      "\n",
      ">>> x1 = np.arange(9.0).reshape((3, 3))\n",
      ">>> x2 = np.arange(3.0)\n",
      ">>> x1 + x2\n",
      "array([[ 0.,  2.,  4.],\n",
      "       [ 3.,  5.,  7.],\n",
      "       [ 6.,  8., 10.]])\n",
      "None\n"
     ]
    }
   ],
   "source": [
    "# help with add function\n",
    "print(np.info(np.add))"
   ]
  },
  {
   "cell_type": "code",
   "execution_count": 8,
   "id": "d40205a4-7a99-4eb2-b6b7-863b500d1c2e",
   "metadata": {
    "tags": []
   },
   "outputs": [
    {
     "data": {
      "text/plain": [
       "False"
      ]
     },
     "execution_count": 8,
     "metadata": {},
     "output_type": "execute_result"
    }
   ],
   "source": [
    "# Test whether none of the elements in an array are zero\n",
    "array = np.array([1, 2, 3, 4])\n",
    "np.all(array)"
   ]
  },
  {
   "cell_type": "code",
   "execution_count": 15,
   "id": "ea291312-1bd3-4915-998c-ab8fef69ed7d",
   "metadata": {
    "tags": []
   },
   "outputs": [
    {
     "data": {
      "text/plain": [
       "True"
      ]
     },
     "execution_count": 15,
     "metadata": {},
     "output_type": "execute_result"
    }
   ],
   "source": [
    "# Write a NumPy program to test if any of the elements of a given array are non-zero\n",
    "np.any(array)"
   ]
  },
  {
   "cell_type": "code",
   "execution_count": 14,
   "id": "097e1247-21c8-43f6-9932-32ed2e7ae694",
   "metadata": {
    "tags": []
   },
   "outputs": [
    {
     "name": "stdout",
     "output_type": "stream",
     "text": [
      "[False  True  True False False  True]\n",
      "[False False False False False False]\n"
     ]
    }
   ],
   "source": [
    "# Write a NumPy program to test elements-wise for positive or negative infinity.  \n",
    "ar1 = np.array([1, np.inf, np.inf, 4, 5, np.inf])\n",
    "positive = np.isposinf(ar1)\n",
    "negative = np.isneginf(ar1)\n",
    "print(positive)\n",
    "print(negative)"
   ]
  },
  {
   "cell_type": "code",
   "execution_count": 16,
   "id": "0cb79a22-04e7-4564-99d1-0d0f0cb6d5dc",
   "metadata": {
    "tags": []
   },
   "outputs": [
    {
     "data": {
      "text/plain": [
       "array([False,  True,  True, False, False, False])"
      ]
     },
     "execution_count": 16,
     "metadata": {},
     "output_type": "execute_result"
    }
   ],
   "source": [
    "#  Write a NumPy program to test element-wise for NaN of a given array.\n",
    "ar2 = np.array([1, np.nan, np.nan, 4, 100, 23])\n",
    "np.isnan(ar2)"
   ]
  },
  {
   "cell_type": "code",
   "execution_count": 34,
   "id": "e87b88c7-f42e-44b6-826b-2a3eadfde23f",
   "metadata": {
    "tags": []
   },
   "outputs": [
    {
     "data": {
      "text/plain": [
       "True"
      ]
     },
     "execution_count": 34,
     "metadata": {},
     "output_type": "execute_result"
    }
   ],
   "source": [
    "# Write a NumPy program to test element-wise for complex numbers, real numbers in a given array. Also test if a given number is of a scalar type or not. \n",
    "\n",
    "ar3 = np.array([1+1j, 2+3j, 34.0, 3, 5, 2j, 3.1])\n",
    "\n",
    "np.iscomplex(ar3)\n",
    "np.isreal(ar3)\n",
    "np.isscalar([3.1])\n",
    "np.isscalar(3.1)"
   ]
  },
  {
   "cell_type": "code",
   "execution_count": 46,
   "id": "ec5303a7-76f0-4a09-9fb5-d3008bbd0aa3",
   "metadata": {
    "tags": []
   },
   "outputs": [
    {
     "data": {
      "text/plain": [
       "True"
      ]
     },
     "execution_count": 46,
     "metadata": {},
     "output_type": "execute_result"
    }
   ],
   "source": [
    "#  Write a NumPy program to test whether two arrays are element-wise equal within a tolerance\n",
    "\n",
    "np.allclose([2, 2.02], [2.1, 2.01], rtol=0.1, atol=0.05)\n",
    "\n",
    "# np.info(np.allclose)\n",
    "np.allclose([1.0, np.nan], [1.0, np.nan], equal_nan=True)"
   ]
  },
  {
   "cell_type": "code",
   "execution_count": 53,
   "id": "ae76da9e-3d7d-48b6-b0a3-570a55325c31",
   "metadata": {
    "tags": []
   },
   "outputs": [
    {
     "data": {
      "text/plain": [
       "array([False, False,  True,  True,  True,  True])"
      ]
     },
     "execution_count": 53,
     "metadata": {},
     "output_type": "execute_result"
    }
   ],
   "source": [
    "# Write a NumPy program to create an element-wise comparison (greater, greater_equal, less and less_equal) of two given arrays.\n",
    "ar1 = np.array([1, 2, 3, 4, 5, 6])\n",
    "ar2 = np.array([5, 3, 1, 4, 2, 6])\n",
    "\n",
    "np.greater(ar1, ar2)\n",
    "np.greater_equal(ar2, ar1)\n",
    "np.less(ar1, ar2)\n",
    "np.less_equal(ar2, ar1)"
   ]
  },
  {
   "cell_type": "code",
   "execution_count": 4,
   "id": "7a3f0a8d-3719-40ae-b5e9-f178b18115df",
   "metadata": {
    "tags": []
   },
   "outputs": [
    {
     "data": {
      "text/plain": [
       "False"
      ]
     },
     "execution_count": 4,
     "metadata": {},
     "output_type": "execute_result"
    }
   ],
   "source": [
    "# Write a NumPy program to create an element-wise comparison (equal, equal within a tolerance) of two given arrays.\n",
    "\n",
    "ar1 = np.array([1, 2, 3, 4, 5, 6])\n",
    "ar2 = np.array([5, 3, 1, 4, 2, 6])\n",
    "\n",
    "np.equal(ar1, ar2)\n",
    "np.allclose(ar1, ar2)"
   ]
  },
  {
   "cell_type": "code",
   "execution_count": 78,
   "id": "49a0873f-c652-4e90-a817-b6ea6a284b0a",
   "metadata": {
    "tags": []
   },
   "outputs": [
    {
     "name": "stdout",
     "output_type": "stream",
     "text": [
      "16 bytes\n"
     ]
    }
   ],
   "source": [
    "# Write a NumPy program to create an array with the values 1, 7, 13, 105 and determine the size of the memory occupied by the array.\n",
    "x = np.array([1, 7, 13, 105])\n",
    "\n",
    "print(\"%d bytes\" % (x.size * x.itemsize)) "
   ]
  },
  {
   "cell_type": "code",
   "execution_count": 88,
   "id": "ab019a1e-e615-467e-9886-dc22958bedfa",
   "metadata": {
    "tags": []
   },
   "outputs": [
    {
     "data": {
      "text/plain": [
       "array([5, 5, 5, 5, 5, 5, 5, 5, 5, 5])"
      ]
     },
     "execution_count": 88,
     "metadata": {},
     "output_type": "execute_result"
    }
   ],
   "source": [
    "# Write a NumPy program to create an array of 10 zeros, 10 ones, and 10 fives.\n",
    "np.ones(10)\n",
    "np.zeros(10)\n",
    "np.full(10, 5)"
   ]
  },
  {
   "cell_type": "code",
   "execution_count": 89,
   "id": "8c686299-f893-4eb6-9594-7f3a89878491",
   "metadata": {
    "tags": []
   },
   "outputs": [
    {
     "data": {
      "text/plain": [
       "array([30, 31, 32, 33, 34, 35, 36, 37, 38, 39, 40, 41, 42, 43, 44, 45, 46,\n",
       "       47, 48, 49, 50, 51, 52, 53, 54, 55, 56, 57, 58, 59, 60, 61, 62, 63,\n",
       "       64, 65, 66, 67, 68, 69, 70])"
      ]
     },
     "execution_count": 89,
     "metadata": {},
     "output_type": "execute_result"
    }
   ],
   "source": [
    "# Write a NumPy program to create an array of integers from 30 to 70\n",
    "np.arange(30, 71)"
   ]
  },
  {
   "cell_type": "code",
   "execution_count": 99,
   "id": "7a9a2be3-20f1-49ea-a5df-ba4fd5c11233",
   "metadata": {
    "tags": []
   },
   "outputs": [
    {
     "name": "stdout",
     "output_type": "stream",
     "text": [
      " identity(n, dtype=None, *, like=None)\n",
      "\n",
      "Return the identity array.\n",
      "\n",
      "The identity array is a square array with ones on\n",
      "the main diagonal.\n",
      "\n",
      "Parameters\n",
      "----------\n",
      "n : int\n",
      "    Number of rows (and columns) in `n` x `n` output.\n",
      "dtype : data-type, optional\n",
      "    Data-type of the output.  Defaults to ``float``.\n",
      "like : array_like, optional\n",
      "    Reference object to allow the creation of arrays which are not\n",
      "    NumPy arrays. If an array-like passed in as ``like`` supports\n",
      "    the ``__array_function__`` protocol, the result will be defined\n",
      "    by it. In this case, it ensures the creation of an array object\n",
      "    compatible with that passed in via this argument.\n",
      "\n",
      "    .. versionadded:: 1.20.0\n",
      "\n",
      "Returns\n",
      "-------\n",
      "out : ndarray\n",
      "    `n` x `n` array with its main diagonal set to one,\n",
      "    and all other elements 0.\n",
      "\n",
      "Examples\n",
      "--------\n",
      ">>> np.identity(3)\n",
      "array([[1.,  0.,  0.],\n",
      "       [0.,  1.,  0.],\n",
      "       [0.,  0.,  1.]])\n"
     ]
    }
   ],
   "source": [
    "# Write a NumPy program to create a 3x3 identity matrix\n",
    "np.identity(4)\n",
    "# np.info(np.identity)"
   ]
  },
  {
   "cell_type": "code",
   "execution_count": 4,
   "id": "af12b367-b8ad-44b0-9c41-5904b89d8eb4",
   "metadata": {},
   "outputs": [
    {
     "data": {
      "text/plain": [
       "0.6241103009094079"
      ]
     },
     "execution_count": 4,
     "metadata": {},
     "output_type": "execute_result"
    }
   ],
   "source": [
    "# Write a NumPy program to generate a random number between 0 and 1.\n",
    "np.random.random()"
   ]
  },
  {
   "cell_type": "code",
   "execution_count": 10,
   "id": "35c04bf0-a939-4e1e-b1b9-26e514321f8c",
   "metadata": {
    "tags": []
   },
   "outputs": [
    {
     "data": {
      "text/plain": [
       "array([-0.70310523,  0.71563997,  1.78719488,  1.75620158,  1.70524697,\n",
       "       -0.21971571, -0.16848563, -0.31531597,  0.19326832,  0.7827567 ,\n",
       "       -0.56468745,  0.26289645, -0.85823411, -0.85036358, -1.02281074])"
      ]
     },
     "execution_count": 10,
     "metadata": {},
     "output_type": "execute_result"
    }
   ],
   "source": [
    "# Write a NumPy program to generate an array of 15 random numbers from a standard normal distribution.\n",
    "\n",
    "np.random.normal(0, 1, 15)"
   ]
  },
  {
   "cell_type": "code",
   "execution_count": 12,
   "id": "27259d2c-f2b8-48c2-8a60-62c7087e857b",
   "metadata": {
    "tags": []
   },
   "outputs": [
    {
     "data": {
      "text/plain": [
       "array([16, 17, 18, 19, 20, 21, 22, 23, 24, 25, 26, 27, 28, 29, 30, 31, 32,\n",
       "       33, 34, 35, 36, 37, 38, 39, 40, 41, 42, 43, 44, 45, 46, 47, 48, 49,\n",
       "       50, 51, 52, 53, 54])"
      ]
     },
     "execution_count": 12,
     "metadata": {},
     "output_type": "execute_result"
    }
   ],
   "source": [
    "# Write a NumPy program to create a vector with values ranging from 15 to 55 and print all values except the first and last\n",
    "x = np.arange(15, 56)\n",
    "x[1 : -1]"
   ]
  },
  {
   "cell_type": "code",
   "execution_count": 25,
   "id": "a679732e-ca84-465d-9be9-a4dae8097c0e",
   "metadata": {
    "tags": []
   },
   "outputs": [
    {
     "name": "stdout",
     "output_type": "stream",
     "text": [
      "12, 13, 14, 15, 16, 17, 18, 19, 20, 21, 22, 23, "
     ]
    }
   ],
   "source": [
    " # Write a NumPy program to create a 3X4 array and iterate over it.\n",
    "x = np.arange(12, 24).reshape(3, 4)\n",
    "x\n",
    "\n",
    "for y in np.nditer(x):\n",
    "    print(y, end=\", \")"
   ]
  },
  {
   "cell_type": "code",
   "execution_count": 27,
   "id": "95847777-b40f-4ac2-a6d2-11b01edfdf2d",
   "metadata": {
    "tags": []
   },
   "outputs": [
    {
     "data": {
      "text/plain": [
       "array([ 6.        , 10.77777778, 15.55555556, 20.33333333, 25.11111111,\n",
       "       29.88888889, 34.66666667, 39.44444444, 44.22222222, 49.        ])"
      ]
     },
     "execution_count": 27,
     "metadata": {},
     "output_type": "execute_result"
    }
   ],
   "source": [
    "# Write a NumPy program to create a vector of length 10 with values evenly distributed between 5 and 50\n",
    "np.linspace(6, 49, 10)"
   ]
  },
  {
   "cell_type": "code",
   "execution_count": 34,
   "id": "e6ff0fa0-844c-450f-b70c-cd10eafc1a3d",
   "metadata": {
    "tags": []
   },
   "outputs": [
    {
     "data": {
      "text/plain": [
       "array([  0,   1,   2,   3,   4,   5,   6,   7,   8,  -9, -10, -11, -12,\n",
       "       -13, -14, -15,  16,  17,  18,  19,  20])"
      ]
     },
     "execution_count": 34,
     "metadata": {},
     "output_type": "execute_result"
    }
   ],
   "source": [
    "# Write a NumPy program to create a vector with values from 0 to 20 and change the sign of the numbers in the range from 9 to 15.\n",
    "x = np.arange(21)\n",
    "x[(x >= 9) & (x <= 15)] *= -1  \n",
    "x"
   ]
  },
  {
   "cell_type": "code",
   "execution_count": 36,
   "id": "c05c9cab-a3cc-418f-8243-ffb6c7d5d111",
   "metadata": {
    "tags": []
   },
   "outputs": [
    {
     "data": {
      "text/plain": [
       "array([9, 2, 1, 8, 3])"
      ]
     },
     "execution_count": 36,
     "metadata": {},
     "output_type": "execute_result"
    }
   ],
   "source": [
    "# Write a NumPy program to create a vector of length 5 filled with arbitrary integers from 0 to 10\n",
    "np.random.randint(0, 10, 5)"
   ]
  },
  {
   "cell_type": "code",
   "execution_count": 38,
   "id": "1a5328ee-95f0-401d-8e86-896ce4ec4958",
   "metadata": {
    "tags": []
   },
   "outputs": [
    {
     "data": {
      "text/plain": [
       "array([ 2, 10, 18, 36])"
      ]
     },
     "execution_count": 38,
     "metadata": {},
     "output_type": "execute_result"
    }
   ],
   "source": [
    "# Write a NumPy program to multiply the values of two given vectors.\n",
    "ar1 = np.array([1, 2, 3, 4])\n",
    "ar2 = np.array([2, 5, 6, 9])\n",
    "\n",
    "ar1 * ar2"
   ]
  },
  {
   "cell_type": "code",
   "execution_count": 39,
   "id": "a19685e2-e94d-4ff0-92f7-f1e0c0c56073",
   "metadata": {
    "tags": []
   },
   "outputs": [
    {
     "data": {
      "text/plain": [
       "array([[10, 11, 12, 13],\n",
       "       [14, 15, 16, 17],\n",
       "       [18, 19, 20, 21]])"
      ]
     },
     "execution_count": 39,
     "metadata": {},
     "output_type": "execute_result"
    }
   ],
   "source": [
    "# Write a NumPy program to create a 3x4 matrix filled with values from 10 to 21.\n",
    "np.arange(10, 22).reshape(3, 4)"
   ]
  },
  {
   "cell_type": "code",
   "execution_count": 40,
   "id": "c2c229df-37e3-4013-8fc8-e95a71280d12",
   "metadata": {
    "tags": []
   },
   "outputs": [
    {
     "data": {
      "text/plain": [
       "(3, 4)"
      ]
     },
     "execution_count": 40,
     "metadata": {},
     "output_type": "execute_result"
    }
   ],
   "source": [
    "# Write a NumPy program to find the number of rows and columns in a given matrix.\n",
    "x = np.arange(10, 22).reshape(3, 4)\n",
    "x.shape"
   ]
  },
  {
   "cell_type": "code",
   "execution_count": 41,
   "id": "095c7b8a-3e05-4887-908f-d3f6022e51bd",
   "metadata": {
    "tags": []
   },
   "outputs": [
    {
     "data": {
      "text/plain": [
       "array([[1., 0., 0.],\n",
       "       [0., 1., 0.],\n",
       "       [0., 0., 1.]])"
      ]
     },
     "execution_count": 41,
     "metadata": {},
     "output_type": "execute_result"
    }
   ],
   "source": [
    "# Write a NumPy program to create a 3x3 identity matrix, i.e. the diagonal elements are 1, the rest are 0\n",
    "np.identity(3)"
   ]
  },
  {
   "cell_type": "code",
   "execution_count": 50,
   "id": "72f44f9e-b19b-4051-b907-633d52fbcf5d",
   "metadata": {
    "tags": []
   },
   "outputs": [
    {
     "data": {
      "text/plain": [
       "array([[1., 1., 1., 1., 1., 1., 1., 1., 1., 1.],\n",
       "       [1., 0., 0., 0., 0., 0., 0., 0., 0., 1.],\n",
       "       [1., 0., 0., 0., 0., 0., 0., 0., 0., 1.],\n",
       "       [1., 0., 0., 0., 0., 0., 0., 0., 0., 1.],\n",
       "       [1., 0., 0., 0., 0., 0., 0., 0., 0., 1.],\n",
       "       [1., 0., 0., 0., 0., 0., 0., 0., 0., 1.],\n",
       "       [1., 0., 0., 0., 0., 0., 0., 0., 0., 1.],\n",
       "       [1., 0., 0., 0., 0., 0., 0., 0., 0., 1.],\n",
       "       [1., 0., 0., 0., 0., 0., 0., 0., 0., 1.],\n",
       "       [1., 1., 1., 1., 1., 1., 1., 1., 1., 1.]])"
      ]
     },
     "execution_count": 50,
     "metadata": {},
     "output_type": "execute_result"
    }
   ],
   "source": [
    "# Write a NumPy program to create a 10x10 matrix, in which the elements on the borders will be equal to 1, and inside 0.\n",
    "x = np.ones([10, 10])\n",
    "x[1:-1, 1:-1] = 0\n",
    "x"
   ]
  },
  {
   "cell_type": "code",
   "execution_count": 55,
   "id": "d043de53-ce02-448f-bd3c-d0cb168413e7",
   "metadata": {
    "tags": []
   },
   "outputs": [
    {
     "data": {
      "text/plain": [
       "array([[1, 0, 0, 0, 0],\n",
       "       [0, 2, 0, 0, 0],\n",
       "       [0, 0, 3, 0, 0],\n",
       "       [0, 0, 0, 4, 0],\n",
       "       [0, 0, 0, 0, 5]])"
      ]
     },
     "execution_count": 55,
     "metadata": {},
     "output_type": "execute_result"
    }
   ],
   "source": [
    "# Write a NumPy program to create a 5x5 zero matrix with elements on the main diagonal equal to 1, 2, 3, 4, 5\n",
    "np.diag([1, 2, 3, 4, 5])\n"
   ]
  },
  {
   "cell_type": "code",
   "execution_count": 64,
   "id": "5f4e5d19-001a-4775-92de-822668e2cec7",
   "metadata": {
    "tags": []
   },
   "outputs": [
    {
     "data": {
      "text/plain": [
       "array([[0., 1., 0., 1.],\n",
       "       [0., 0., 0., 0.],\n",
       "       [0., 1., 0., 1.],\n",
       "       [0., 0., 0., 0.]])"
      ]
     },
     "execution_count": 64,
     "metadata": {},
     "output_type": "execute_result"
    }
   ],
   "source": [
    "# Write a NumPy program to create a 4x4 matrix in which 0 and 1 are staggered, with zeros on the main diagonal\n",
    "w = np.zeros([4,4])\n",
    "w[::2, 1::2] = 1\n",
    "# w[1::2, ::2] = 1\n",
    "w"
   ]
  },
  {
   "cell_type": "code",
   "execution_count": 71,
   "id": "a7d2be7e-57c8-4684-b599-fa6db24be9e0",
   "metadata": {
    "tags": []
   },
   "outputs": [
    {
     "data": {
      "text/plain": [
       "array([[[0.11472564, 0.6994377 , 0.58047853],\n",
       "        [0.9884653 , 0.76887048, 0.33790729],\n",
       "        [0.31641974, 0.07541734, 0.35809608]],\n",
       "\n",
       "       [[0.29950682, 0.48907527, 0.29101018],\n",
       "        [0.73587281, 0.7843841 , 0.78463843],\n",
       "        [0.94892826, 0.51830636, 0.53293104]],\n",
       "\n",
       "       [[0.48284495, 0.586184  , 0.12376062],\n",
       "        [0.73123352, 0.77702196, 0.70350697],\n",
       "        [0.61737027, 0.50279659, 0.97865528]]])"
      ]
     },
     "execution_count": 71,
     "metadata": {},
     "output_type": "execute_result"
    }
   ],
   "source": [
    "# Write a NumPy program to create a 3x3x3 array filled with arbitrary values\n",
    "np.random.random((3, 3, 3))"
   ]
  },
  {
   "cell_type": "code",
   "execution_count": 13,
   "id": "6456bd42-6f60-432e-ad56-c807aed5a02e",
   "metadata": {
    "tags": []
   },
   "outputs": [
    {
     "data": {
      "text/plain": [
       "array([ 6, 15, 24])"
      ]
     },
     "execution_count": 13,
     "metadata": {},
     "output_type": "execute_result"
    }
   ],
   "source": [
    "# Write a NumPy program to compute the sum of all elements, the sum of each column and the sum of each row in a given array.\n",
    "x = np.array([[1, 2, 3],\n",
    "              [4, 5, 6],\n",
    "              [7, 8, 9]])\n",
    "np.sum(x)\n",
    "np.sum(x, axis=0)\n",
    "np.sum(x, axis=1)\n"
   ]
  },
  {
   "cell_type": "code",
   "execution_count": 14,
   "id": "7ad42fa2-09f6-46d3-a93f-d300f3ab0e5a",
   "metadata": {
    "tags": []
   },
   "outputs": [
    {
     "data": {
      "text/plain": [
       "14"
      ]
     },
     "execution_count": 14,
     "metadata": {},
     "output_type": "execute_result"
    }
   ],
   "source": [
    "# Write a NumPy program to compute the inner product of two given vectors\n",
    "a = [2, 2]\n",
    "b = [3, 4]\n",
    "\n",
    "np.dot(a, b)"
   ]
  },
  {
   "cell_type": "code",
   "execution_count": 78,
   "id": "81982320-7909-46b3-93db-f671e02766ad",
   "metadata": {
    "tags": []
   },
   "outputs": [
    {
     "data": {
      "text/plain": [
       "array([[ 2,  3,  3],\n",
       "       [ 5,  6,  6],\n",
       "       [ 8,  9,  9],\n",
       "       [11, 12, 12]])"
      ]
     },
     "execution_count": 78,
     "metadata": {},
     "output_type": "execute_result"
    }
   ],
   "source": [
    "# Write a NumPy program to add a vector to each row of a given matrix.\n",
    "m = np.array([[1, 2, 3], [4, 5, 6], [7, 8, 9], [10, 11, 12]])\n",
    "v = np.array([1, 1, 0])\n",
    "v\n",
    "m\n",
    "result = np.empty_like(m)\n",
    "for i in range(4):\n",
    "    result[i, :] = m[i, :] + v\n",
    "result"
   ]
  },
  {
   "cell_type": "code",
   "execution_count": 6,
   "id": "a53ab069-a26b-40a9-980d-acb2aaf48104",
   "metadata": {},
   "outputs": [
    {
     "data": {
      "text/plain": [
       "3"
      ]
     },
     "execution_count": 6,
     "metadata": {},
     "output_type": "execute_result"
    }
   ],
   "source": [
    "# Write a NumPy program to save a given array to a binary file\n",
    "v = np.array([1, 1, 0])\n",
    "np.save('testing.npy', v)\n",
    "x = np.load('testing.npy')\n"
   ]
  },
  {
   "cell_type": "code",
   "execution_count": 15,
   "id": "facc0775-2981-4add-962d-3b08ac92e563",
   "metadata": {
    "tags": []
   },
   "outputs": [
    {
     "data": {
      "text/plain": [
       "array([[ 1.,  2.,  3.,  4.,  5.],\n",
       "       [ 6.,  7.,  8.,  9., 10.],\n",
       "       [11., 12., 13., 14., 15.],\n",
       "       [16., 17., 18., 19., 20.]])"
      ]
     },
     "execution_count": 15,
     "metadata": {},
     "output_type": "execute_result"
    }
   ],
   "source": [
    "# Write a NumPy program to save a given array to a text file and load it.\n",
    "x = np.arange(1, 21).reshape(4, 5)\n",
    "header= 'Bola Tolu Titi Remi Temi'\n",
    "np.savetxt('test3.txt', x, header=header)\n",
    "\n",
    "y = np.loadtxt('test3.txt')\n",
    "y"
   ]
  },
  {
   "cell_type": "code",
   "execution_count": 16,
   "id": "389563f9-aa1c-4a0e-bb59-ce32a37d11ff",
   "metadata": {
    "tags": []
   },
   "outputs": [
    {
     "data": {
      "text/plain": [
       "True"
      ]
     },
     "execution_count": 16,
     "metadata": {},
     "output_type": "execute_result"
    }
   ],
   "source": [
    "# Write a NumPy program to convert a given array into bytes, and load it as an array.\n",
    "a = np.array([1, 2, 3, 4, 5, 6])\n",
    "a_bytes = a.tobytes()\n",
    "a2 = np.frombuffer(a_bytes, dtype=a.dtype)\n",
    "np.array_equal(a, a2)"
   ]
  },
  {
   "cell_type": "code",
   "execution_count": 17,
   "id": "8d204405-328c-4fcf-8949-7bd8acd529c1",
   "metadata": {},
   "outputs": [
    {
     "name": "stdout",
     "output_type": "stream",
     "text": [
      "True\n"
     ]
    }
   ],
   "source": [
    "# Write a NumPy program to convert a given list into an array, then again convert it into a list. Check initial list and final list are equal or not.\n",
    "\n",
    "list = [1, 2, 3]\n",
    "numpy = np.array(list)\n",
    "numpy\n",
    "\n",
    "x = numpy.tolist()\n",
    "x\n",
    "\n",
    "print(list == x)"
   ]
  },
  {
   "cell_type": "code",
   "execution_count": 25,
   "id": "c7139e34-c994-4b65-94ef-c99f531c90d0",
   "metadata": {
    "tags": []
   },
   "outputs": [
    {
     "data": {
      "image/png": "[encoded data removed]",
      "text/plain": [
       "<Figure size 640x480 with 1 Axes>"
      ]
     },
     "metadata": {},
     "output_type": "display_data"
    }
   ],
   "source": [
    "# Write a  NumPy program to compute the x and y coordinates for points on a sine curve and plot the points using matplotlib.\n",
    "x = np.arange(0, 3*np.pi, 0.2)\n",
    "y = np.sin(x)\n",
    "\n",
    "plt.plot(x, y)\n",
    "plt.title('sine graph')\n",
    "plt.xlabel('x')\n",
    "plt.ylabel('sin x')\n",
    "\n",
    "plt.show()"
   ]
  },
  {
   "cell_type": "code",
   "execution_count": 30,
   "id": "0d136c69-c84f-40c6-a645-fef624375166",
   "metadata": {
    "tags": []
   },
   "outputs": [
    {
     "name": "stdout",
     "output_type": "stream",
     "text": [
      "<class 'numpy.int32'>\n"
     ]
    }
   ],
   "source": [
    "# Write a  NumPy program to convert  numpy dtypes to native  Python types\n",
    "\n",
    "x = np.int32(1)\n",
    "\n",
    "print(type(x))"
   ]
  },
  {
   "cell_type": "code",
   "execution_count": 34,
   "id": "4b9efb22-37e2-42a4-9a84-2f200917f6aa",
   "metadata": {
    "tags": []
   },
   "outputs": [
    {
     "name": "stdout",
     "output_type": "stream",
     "text": [
      "[0.37454012 0.95071431 0.73199394 0.59865848 0.15601864]\n",
      "[0.15599452 0.05808361 0.86617615 0.60111501 0.70807258]\n"
     ]
    }
   ],
   "source": [
    "import numpy as np\n",
    "\n",
    "# Set the seed\n",
    "np.random.seed(42)\n",
    "\n",
    "# Generate random numbers\n",
    "random_numbers1 = np.random.rand(5)\n",
    "print(random_numbers1)\n",
    "\n",
    "# Generate random numbers again with the same seed\n",
    "random_numbers2 = np.random.rand(5)\n",
    "print(random_numbers2)"
   ]
  },
  {
   "cell_type": "code",
   "execution_count": 35,
   "id": "35bc707f-d858-4549-b907-ea8d58929dd5",
   "metadata": {
    "tags": []
   },
   "outputs": [
    {
     "data": {
      "text/plain": [
       "array([[ 1.,  0.,  0.],\n",
       "       [-0., -1., -0.],\n",
       "       [ 0.,  0.,  1.]])"
      ]
     },
     "execution_count": 35,
     "metadata": {},
     "output_type": "execute_result"
    }
   ],
   "source": [
    "nums = np.array([[5.54, 3.38, 7.99],\n",
    "              [3.54, 8.32, 6.99],\n",
    "              [1.54, 2.39, 9.29]])\n",
    "x = np.empty_like(nums)\n",
    "x"
   ]
  },
  {
   "cell_type": "code",
   "execution_count": 44,
   "id": "1ccb891f-8a25-47ef-a1ac-dd82a98d38a8",
   "metadata": {
    "tags": []
   },
   "outputs": [
    {
     "data": {
      "text/plain": [
       "array([[16, 15, 14, 13],\n",
       "       [12, 11, 10,  9],\n",
       "       [ 8,  7,  6,  5],\n",
       "       [ 4,  3,  2,  1]])"
      ]
     },
     "execution_count": 44,
     "metadata": {},
     "output_type": "execute_result"
    }
   ],
   "source": [
    "num = np.array([[1, 2, 3, 4],\n",
    "                [5, 6, 7, 8],\n",
    "                [9, 10, 11, 12],\n",
    "                [13, 14, 15, 16]])\n",
    "\n",
    "newnums = num[::-1, ::-1]\n",
    "newnums"
   ]
  },
  {
   "cell_type": "code",
   "execution_count": null,
   "id": "dec9f168-93c2-45e9-8d1d-14cc96ad9ca2",
   "metadata": {},
   "outputs": [],
   "source": []
  }
 ],
 "metadata": {
  "kernelspec": {
   "display_name": "Python 3 (ipykernel)",
   "language": "python",
   "name": "python3"
  },
  "language_info": {
   "codemirror_mode": {
    "name": "ipython",
    "version": 3
   },
   "file_extension": ".py",
   "mimetype": "text/x-python",
   "name": "python",
   "nbconvert_exporter": "python",
   "pygments_lexer": "ipython3",
   "version": "3.11.5"
  }
 },
 "nbformat": 4,
 "nbformat_minor": 5
}
